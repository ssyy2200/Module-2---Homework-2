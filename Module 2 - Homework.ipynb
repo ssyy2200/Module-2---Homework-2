{
 "cells": [
  {
   "cell_type": "markdown",
   "id": "c209b646",
   "metadata": {},
   "source": [
    "### Homework #2"
   ]
  },
  {
   "cell_type": "markdown",
   "id": "869ebfd6",
   "metadata": {},
   "source": [
    "1. Round 4.5667 to the nearest hundreth (2 decimals) using a build-in function, round()."
   ]
  },
  {
   "cell_type": "code",
   "execution_count": 3,
   "id": "123658aa",
   "metadata": {},
   "outputs": [
    {
     "data": {
      "text/plain": [
       "4.57"
      ]
     },
     "execution_count": 3,
     "metadata": {},
     "output_type": "execute_result"
    }
   ],
   "source": [
    "round(4.5667, 2)"
   ]
  },
  {
   "cell_type": "markdown",
   "id": "9d3f352c",
   "metadata": {},
   "source": [
    "2. Convert \"657\" to an integer data type"
   ]
  },
  {
   "cell_type": "code",
   "execution_count": 10,
   "id": "d5a67683",
   "metadata": {},
   "outputs": [
    {
     "data": {
      "text/plain": [
       "657"
      ]
     },
     "execution_count": 10,
     "metadata": {},
     "output_type": "execute_result"
    }
   ],
   "source": [
    "int(\"657\")"
   ]
  },
  {
   "cell_type": "markdown",
   "id": "a36f06d4",
   "metadata": {},
   "source": [
    "3. Write a program to get two numbers from a user. Then, create a 6-digit code that is a series of randomly generated numbers between the two numbers given by the user. Print the 6-digit code so all digits are separated by a dash. "
   ]
  },
  {
   "cell_type": "code",
   "execution_count": 6,
   "id": "021c92d4",
   "metadata": {},
   "outputs": [
    {
     "name": "stdout",
     "output_type": "stream",
     "text": [
      "Enter a number: 50\n",
      "Enter another number: 100\n",
      "The secret code is: 58-66-73-86-71-96\n"
     ]
    }
   ],
   "source": [
    "import random as rand\n",
    "\n",
    "n1 = int(input(\"Enter a number: \"))\n",
    "n2 = int(input(\"Enter another number: \"))\n",
    "\n",
    "d1 = rand.randint(n1, n2)\n",
    "d2 = rand.randint(n1, n2)\n",
    "d3 = rand.randint(n1, n2)\n",
    "d4 = rand.randint(n1, n2)\n",
    "d5 = rand.randint(n1, n2)\n",
    "d6 = rand.randint(n1, n2)\n",
    "\n",
    "print(f\"The secret code is: {d1}-{d2}-{d3}-{d4}-{d5}-{d6}\")"
   ]
  },
  {
   "cell_type": "markdown",
   "id": "ee1441a1",
   "metadata": {},
   "source": [
    "4. Write a program to remove ALL the white spaces from the following text:\n",
    "\n",
    "        Hickory, dickory, dock,     \n",
    "        The mouse ran up the clock.   \n",
    "        The clock struck one,   \n",
    "        The mouse ran down,                      \n",
    "        Hickory, dickory, dock                  "
   ]
  },
  {
   "cell_type": "code",
   "execution_count": 13,
   "id": "8bf680f1",
   "metadata": {},
   "outputs": [
    {
     "name": "stdout",
     "output_type": "stream",
     "text": [
      "Original string: Hickory, dickory, dock,     \n",
      "The mouse ran up the clock.   \n",
      "The clock struck one,   \n",
      "The mouse ran down,                      \n",
      "Hickory, dickory, dock\n",
      "Without extra spaces: Hickory,dickory,dock,Themouseranuptheclock.Theclockstruckone,Themouserandown,Hickory,dickory,dock\n"
     ]
    }
   ],
   "source": [
    " import re\n",
    "text1 = \"\"\"Hickory, dickory, dock,     \n",
    " The mouse ran up the clock.   \n",
    " The clock struck one,   \n",
    " The mouse ran down,                      \n",
    " Hickory, dickory, dock\"\"\"   \n",
    "print(\"Original string:\",text1)\n",
    "print(\"Without extra spaces:\",re.sub(r'\\s+', '',text1)) "
   ]
  },
  {
   "cell_type": "code",
   "execution_count": 14,
   "id": "b408f36b",
   "metadata": {},
   "outputs": [
    {
     "name": "stdout",
     "output_type": "stream",
     "text": [
      "Hickory,dickory,dock,\n",
      "Themouseranuptheclock.\n",
      "Theclockstruckone,\n",
      "Themouserandown,\n",
      "Hickory,dickory,dock\n"
     ]
    }
   ],
   "source": [
    "import re\n",
    "text1 = \"\"\"Hickory, dickory, dock,     \n",
    " The mouse ran up the clock.   \n",
    " The clock struck one,   \n",
    " The mouse ran down,                      \n",
    " Hickory, dickory, dock\"\"\"   \n",
    "print(text1.strip().replace(\" \", \"\")) "
   ]
  },
  {
   "cell_type": "markdown",
   "id": "72d87b5b",
   "metadata": {},
   "source": [
    "5. Write a function to calculate the miles per gallon. Get a miles driven and gallons used from a user and call your function to calculate the miles per gallon."
   ]
  },
  {
   "cell_type": "code",
   "execution_count": 6,
   "id": "27be7372",
   "metadata": {},
   "outputs": [
    {
     "name": "stdout",
     "output_type": "stream",
     "text": [
      "miles driven:120\n",
      "gallons used:4\n",
      "120.0 miles / 4.0 gallons = 30.00 miles per gallon\n"
     ]
    }
   ],
   "source": [
    "def mpg():\n",
    "    miles = float(input(\"miles driven:\"))\n",
    "    gal = float(input(\"gallons used:\"))\n",
    "    mpg = miles/gal\n",
    "    print(f\"{miles} miles / {gal} gallons = {mpg:.2f} miles per gallon\")\n",
    "    \n",
    "mpg()"
   ]
  },
  {
   "cell_type": "markdown",
   "id": "1f3942b8",
   "metadata": {},
   "source": [
    "6. Enhance the <b>compute()</b> function created during Module 2. Enhance the function to compute a circle's area and circumference where:\n",
    "\n",
    " - circle's area = 3.14 X (radius X radius)   \n",
    " - circle's circumference = 3.14 X diameter"
   ]
  },
  {
   "cell_type": "code",
   "execution_count": 1,
   "id": "df43daca",
   "metadata": {},
   "outputs": [
    {
     "name": "stdout",
     "output_type": "stream",
     "text": [
      "circle radius?: 30\n",
      "2826.0\n",
      "188.4\n"
     ]
    }
   ],
   "source": [
    "def compute():\n",
    "    x = float(input(\"circle radius?: \"))\n",
    "    area = (x**2)*3.14\n",
    "    circumference = (2*x) * 3.14\n",
    "    print(area)\n",
    "    print(circumference)\n",
    "    \n",
    "compute()"
   ]
  },
  {
   "cell_type": "code",
   "execution_count": 3,
   "id": "fa8de89a",
   "metadata": {},
   "outputs": [
    {
     "name": "stdout",
     "output_type": "stream",
     "text": [
      "Area= 2827.4333882308138\n",
      "Circumference= 188.49555921538757\n"
     ]
    }
   ],
   "source": [
    "from math import pi \n",
    " \n",
    "#Function calculates area and circumference of a circle \n",
    "#r is the radius \n",
    " \n",
    "def calc_area_circm(r): \n",
    "    return pi * r * r, 2 * pi * r \n",
    " \n",
    " \n",
    "# Driver code \n",
    " \n",
    "area, circm = calc_area_circm(30) \n",
    "print('Area=',area) \n",
    "print('Circumference=',circm) "
   ]
  },
  {
   "cell_type": "markdown",
   "id": "4c5d83bb",
   "metadata": {},
   "source": [
    "7. Write a function called multiply_two() that accepts two parameters. The function should print a message like '15 * 2 = 30'.  Randomly generate two numbers between 1 and 100, then call the function with the two random numbers."
   ]
  },
  {
   "cell_type": "code",
   "execution_count": 24,
   "id": "fe5ca2dc",
   "metadata": {},
   "outputs": [
    {
     "name": "stdout",
     "output_type": "stream",
     "text": [
      "73*99 = 7227\n"
     ]
    }
   ],
   "source": [
    "import random\n",
    "\n",
    "jump = random.randrange(1, 100)\n",
    "fence = random.randrange(1, 100)\n",
    "\n",
    "def muliply_two(j, f):\n",
    "    print(f\"{j}*{f} = {j*f}\" )\n",
    "    \n",
    "muliply_two(jump, fence)"
   ]
  },
  {
   "cell_type": "code",
   "execution_count": null,
   "id": "9f83774c",
   "metadata": {},
   "outputs": [],
   "source": []
  },
  {
   "cell_type": "markdown",
   "id": "36865477",
   "metadata": {},
   "source": [
    "8. Create a function for a multiplication table.  Get a number from a user and then call you function which produces a multiplication table for that number.\n",
    "The output should look something like this:\n",
    "\n",
    "        Enter a number: 3\n",
    "        3 X 1 = 3\n",
    "        3 X 2 = 6\n",
    "        3 X 3 = 9\n",
    "        3 X 4 = 12\n",
    "        3 X 5 = 15\n",
    "        3 X 6 = 18\n",
    "        3 X 7 = 21\n",
    "        3 X 8 = 24\n",
    "        3 X 9 = 27"
   ]
  },
  {
   "cell_type": "code",
   "execution_count": 7,
   "id": "b023e863",
   "metadata": {},
   "outputs": [
    {
     "name": "stdout",
     "output_type": "stream",
     "text": [
      "Enter an integer8\n",
      "8 x 1 = 8\n",
      "8 x 2 = 16\n",
      "8 x 3 = 24\n",
      "8 x 4 = 32\n",
      "8 x 5 = 40\n",
      "8 x 6 = 48\n",
      "8 x 7 = 56\n",
      "8 x 8 = 64\n",
      "8 x 9 = 72\n"
     ]
    }
   ],
   "source": [
    "a = int(input(\"Enter an integer\"))\n",
    "\n",
    "def mul_table(x):\n",
    "    print(f\"{x} x 1 = {x*1}\")\n",
    "    print(f\"{x} x 2 = {x*2}\")\n",
    "    print(f\"{x} x 3 = {x*3}\")\n",
    "    print(f\"{x} x 4 = {x*4}\")\n",
    "    print(f\"{x} x 5 = {x*5}\")\n",
    "    print(f\"{x} x 6 = {x*6}\")\n",
    "    print(f\"{x} x 7 = {x*7}\")\n",
    "    print(f\"{x} x 8 = {x*8}\")\n",
    "    print(f\"{x} x 9 = {x*9}\")\n",
    "    \n",
    "mul_table(a)"
   ]
  },
  {
   "cell_type": "code",
   "execution_count": null,
   "id": "563c8445",
   "metadata": {},
   "outputs": [],
   "source": []
  }
 ],
 "metadata": {
  "kernelspec": {
   "display_name": "Python 3 (ipykernel)",
   "language": "python",
   "name": "python3"
  },
  "language_info": {
   "codemirror_mode": {
    "name": "ipython",
    "version": 3
   },
   "file_extension": ".py",
   "mimetype": "text/x-python",
   "name": "python",
   "nbconvert_exporter": "python",
   "pygments_lexer": "ipython3",
   "version": "3.9.13"
  }
 },
 "nbformat": 4,
 "nbformat_minor": 5
}
